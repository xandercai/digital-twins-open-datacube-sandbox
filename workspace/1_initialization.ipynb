{
 "cells": [
  {
   "cell_type": "code",
   "execution_count": 1,
   "id": "143b446f-1ea5-4afe-9811-55202c9e85ad",
   "metadata": {},
   "outputs": [],
   "source": [
    "import warnings\n",
    "warnings.filterwarnings('ignore')"
   ]
  },
  {
   "cell_type": "markdown",
   "id": "4d1c0371-2a84-41b2-9a57-26b810a29e44",
   "metadata": {},
   "source": [
    "# Open Datacube Initialization and Digital Twins Setup\n",
    "\n",
    "* Initialize Open Datacube.\n",
    "* Setup Digital Twins\n",
    "\n",
    "## Initialize Open Datacube\n",
    "\n",
    "There are two ways to initialize Open Datacube:\n",
    "\n",
    "1. Executing Initialization Script on Terminal\n",
    "\n",
    "    Run container on terminal using `docker exec -it [container] bash`, and execute `odc_init.sh` script.\n",
    "\n",
    "2. Run below cells\n",
    "\n",
    "    It is exactly the same with executing `odc_init.sh` script.\n",
    "    \n",
    "**Note: `datacube system init` is necessary. The rest (i.e., adding metadata and products) are only for introducing Open Datacube which can be ignored.** "
   ]
  },
  {
   "cell_type": "code",
   "execution_count": 2,
   "id": "dd84d659-f959-4e57-accb-1b85112ddb0c",
   "metadata": {},
   "outputs": [
    {
     "name": "stdout",
     "output_type": "stream",
     "text": [
      "2023-02-01 21:21:13,179 183 datacube \u001b[37mINFO\u001b[0m Running datacube command: /env/bin/datacube -v system init\n",
      "Initialising database...\n",
      "2023-02-01 21:21:13,666 183 datacube.drivers.postgres._core \u001b[37mINFO\u001b[0m Ensuring user roles.\n",
      "2023-02-01 21:21:13,703 183 datacube.drivers.postgres._core \u001b[37mINFO\u001b[0m Creating schema.\n",
      "2023-02-01 21:21:13,704 183 datacube.drivers.postgres._core \u001b[37mINFO\u001b[0m Creating tables.\n",
      "2023-02-01 21:21:13,840 183 datacube.drivers.postgres._core \u001b[37mINFO\u001b[0m Creating triggers.\n",
      "2023-02-01 21:21:13,852 183 datacube.drivers.postgres._core \u001b[37mINFO\u001b[0m Creating added column.\n",
      "2023-02-01 21:21:13,859 183 datacube.drivers.postgres._core \u001b[37mINFO\u001b[0m Adding role grants.\n",
      "2023-02-01 21:21:13,863 183 datacube.index.postgres.index \u001b[37mINFO\u001b[0m Adding default metadata types.\n",
      "\u001b[1mCreated.\u001b[0m\n",
      "Checking indexes/views.\n",
      "2023-02-01 21:21:14,075 183 datacube.drivers.postgres._api \u001b[37mINFO\u001b[0m Checking dynamic views/indexes. (rebuild views=True, indexes=False)\n",
      "Done.\n"
     ]
    }
   ],
   "source": [
    "# initialize database\n",
    "! datacube -v system init"
   ]
  },
  {
   "cell_type": "code",
   "execution_count": 3,
   "id": "f6644571-e1e2-4457-a2af-5a828df656e8",
   "metadata": {},
   "outputs": [],
   "source": [
    "# add meta type to database\n",
    "# add metadata samples: eo3_landsat_ard, eo3_sentinel_ard\n",
    "! datacube metadata add https://explorer.sandbox.dea.ga.gov.au/metadata-types/eo3_landsat_ard.odc-type.yaml\n",
    "! datacube metadata add https://explorer.sandbox.dea.ga.gov.au/metadata-types/eo3_sentinel_ard.odc-type.yaml"
   ]
  },
  {
   "cell_type": "code",
   "execution_count": 4,
   "id": "49cee274-4de4-4747-8570-a30db659437b",
   "metadata": {},
   "outputs": [
    {
     "name": "stdout",
     "output_type": "stream",
     "text": [
      "Adding \"ga_ls8c_ard_3\" (this might take a while) DONE\n",
      "Adding \"ga_s2am_ard_3\" (this might take a while) DONE\n"
     ]
    }
   ],
   "source": [
    "# add product to database\n",
    "# add product samples: ga_ls8c_ard_3, ga_s2am_ard_3\n",
    "! datacube product add https://explorer.sandbox.dea.ga.gov.au/products/ga_ls8c_ard_3.odc-product.yaml\n",
    "! datacube product add https://explorer.sandbox.dea.ga.gov.au/products/ga_s2am_ard_3.odc-product.yaml"
   ]
  },
  {
   "cell_type": "markdown",
   "id": "307f0921-9abf-4fca-b72a-c7e5da928473",
   "metadata": {},
   "source": [
    "After initialization we can check Open Datacube information."
   ]
  },
  {
   "cell_type": "code",
   "execution_count": 5,
   "id": "8dddbb89-7240-4b07-a6ec-8abf25925e54",
   "metadata": {},
   "outputs": [
    {
     "name": "stdout",
     "output_type": "stream",
     "text": [
      "2023-02-01 21:21:25,570 303 datacube \u001b[37mINFO\u001b[0m Running datacube command: /env/bin/datacube -v system check\n",
      "Version:       \u001b[1m1.8.10\u001b[0m\n",
      "Config files:  \u001b[1m\u001b[0m\n",
      "Host:          \u001b[1mhost.docker.internal:5439\u001b[0m\n",
      "Database:      \u001b[1mopendatacube\u001b[0m\n",
      "User:          \u001b[1mopendatacube\u001b[0m\n",
      "Environment:   \u001b[1mNone\u001b[0m\n",
      "Index Driver:  \u001b[1mdefault\u001b[0m\n",
      "\n",
      "Valid connection:\t\u001b[1mYES\u001b[0m\n"
     ]
    }
   ],
   "source": [
    "! datacube -v system check"
   ]
  },
  {
   "cell_type": "markdown",
   "id": "40a7f3ae-c17f-4563-8833-0036903d860a",
   "metadata": {},
   "source": [
    "## Digital Twins Setup\n",
    "\n",
    "There are two methods to setup a module:\n",
    "\n",
    "1. use setup tools to install module into a Python environment.\n",
    "\n",
    "1. add path into current Python environment.\n",
    "\n",
    "For development contingency, here we use second method to setup the Digital Twins module.\n",
    "\n",
    "### Download Digital Twins if needed\n",
    "\n",
    "If there is no Digital Twins repo in the current directory, clone a repo from github website."
   ]
  },
  {
   "cell_type": "code",
   "execution_count": 6,
   "id": "c12ee900-d209-458f-83ad-d6565897a70d",
   "metadata": {},
   "outputs": [
    {
     "name": "stdout",
     "output_type": "stream",
     "text": [
      "Digital-Twins directory already exists.\n"
     ]
    }
   ],
   "source": [
    "import os\n",
    "if not os.path.exists('Digital-Twins'):\n",
    "    ! git clone https://github.com/GeospatialResearch/Digital-Twins.git\n",
    "else:\n",
    "    print(\"Digital-Twins directory already exists.\")"
   ]
  },
  {
   "cell_type": "markdown",
   "id": "f802bd45-6ed2-4351-9b45-2790ca30bd12",
   "metadata": {},
   "source": [
    "### Adding Digital Twins to `PYTHONPATH`\n",
    "\n",
    "To use Digital Twins as Python modules, adding the repo directory to `PATHONPATH`. In this way, we can modify, debug, and test Digital Twins with Open Datacube conveniently."
   ]
  },
  {
   "cell_type": "code",
   "execution_count": 7,
   "id": "c11c6806-3be8-44ab-8bc0-37cf83ec8139",
   "metadata": {},
   "outputs": [],
   "source": [
    "import sys\n",
    "sys.path.insert(1, 'Digital-Twins')"
   ]
  },
  {
   "cell_type": "markdown",
   "id": "483fe61e-fcdd-46c7-a5a5-ff50a76e44a8",
   "metadata": {},
   "source": [
    "### Check packages availability\n",
    "\n",
    "Import packages we need and check version. Here the module `src` is the imported Digital Twins package."
   ]
  },
  {
   "cell_type": "code",
   "execution_count": 8,
   "id": "6ce2b6d6-82d6-4cd0-bf0f-902a2c6e64a3",
   "metadata": {},
   "outputs": [
    {
     "name": "stdout",
     "output_type": "stream",
     "text": [
      "src          version: 0.1        location: ['/home/jovyan/Digital-Twins/src']\n",
      "datacube     version: 1.8.10     location: ['/env/lib/python3.9/site-packages/datacube']\n",
      "geofabrics   version: 0.10.11    location: ['/env/lib/python3.9/site-packages/geofabrics']\n",
      "geovoronoi   version: 0.4.0      location: ['/env/lib/python3.9/site-packages/geovoronoi']\n",
      "geoapis      version: 0.3.2      location: ['/env/lib/python3.9/site-packages/geoapis']\n",
      "geopandas    version: 0.12.2     location: ['/env/lib/python3.9/site-packages/geopandas']\n",
      "xarray       version: 2022.3.0   location: ['/env/lib/python3.9/site-packages/xarray']\n",
      "shapely      version: 2.0.0      location: ['/env/lib/python3.9/site-packages/shapely']\n",
      "sqlalchemy   version: 1.4.46     location: ['/env/lib/python3.9/site-packages/sqlalchemy']\n"
     ]
    }
   ],
   "source": [
    "import importlib\n",
    "check_list = ['src',\n",
    "              'datacube', \n",
    "              'geofabrics',\n",
    "              'geovoronoi',\n",
    "              'geoapis',\n",
    "              'geopandas',\n",
    "              'xarray',\n",
    "              'shapely',\n",
    "              'sqlalchemy',\n",
    "             ]\n",
    "modules = []\n",
    "modules = [importlib.import_module(name) for name in check_list] \n",
    "_ = [print(f\"{m.__name__:<12} version:\", f\"{m.__version__:<10}\", \"location:\", m.__path__) for m in modules]"
   ]
  },
  {
   "cell_type": "code",
   "execution_count": null,
   "id": "cd2883b2-e73b-4769-bbea-b85dcf8566b0",
   "metadata": {},
   "outputs": [],
   "source": []
  }
 ],
 "metadata": {
  "kernelspec": {
   "display_name": "Python 3 (ipykernel)",
   "language": "python",
   "name": "python3"
  },
  "language_info": {
   "codemirror_mode": {
    "name": "ipython",
    "version": 3
   },
   "file_extension": ".py",
   "mimetype": "text/x-python",
   "name": "python",
   "nbconvert_exporter": "python",
   "pygments_lexer": "ipython3",
   "version": "3.9.15"
  }
 },
 "nbformat": 4,
 "nbformat_minor": 5
}
